{
  "nbformat": 4,
  "nbformat_minor": 0,
  "metadata": {
    "colab": {
      "name": "Recursive functions.ipynb",
      "provenance": []
    },
    "kernelspec": {
      "name": "python3",
      "display_name": "Python 3"
    },
    "language_info": {
      "name": "python"
    }
  },
  "cells": [
    {
      "cell_type": "markdown",
      "source": [
        "Recursive function to find factorial"
      ],
      "metadata": {
        "id": "elfW8xovX6Rk"
      }
    },
    {
      "cell_type": "code",
      "execution_count": null,
      "metadata": {
        "colab": {
          "base_uri": "https://localhost:8080/"
        },
        "id": "RQv_xBkcV-pn",
        "outputId": "3cb43f1c-df69-4f88-ee0e-ed6fa1c33530"
      },
      "outputs": [
        {
          "output_type": "stream",
          "name": "stdout",
          "text": [
            "Enter a no to find its factorial: 7\n",
            "The factorial of  7  is  5040\n"
          ]
        }
      ],
      "source": [
        "def factorial(num):\n",
        "  if num==1:\n",
        "    return 1\n",
        "  else:\n",
        "    return (num*(factorial(num-1)))\n",
        "n=int(input(\"Enter a no to find its factorial: \"))\n",
        "print(\"The factorial of \",n,\" is \",factorial(n))"
      ]
    },
    {
      "cell_type": "markdown",
      "source": [
        "Recursive function to find sum"
      ],
      "metadata": {
        "id": "5i3T23DaZi74"
      }
    },
    {
      "cell_type": "code",
      "source": [
        "def sumnum(num):\n",
        "  if num==0:\n",
        "    return 0\n",
        "  else:\n",
        "    return (num+sumnum(num-1))\n",
        "n=int(input(\"Enter a no: \"))\n",
        "print(\"The sum of \",n,\" and numbers below it is \",sumnum(n))"
      ],
      "metadata": {
        "colab": {
          "base_uri": "https://localhost:8080/"
        },
        "id": "5fIz7lj9ZeKV",
        "outputId": "ffd410f9-a41e-427e-ea31-d706c5d7aa36"
      },
      "execution_count": null,
      "outputs": [
        {
          "output_type": "stream",
          "name": "stdout",
          "text": [
            "Enter a no: 10\n",
            "The sum of  10  and numbers below it is  55\n"
          ]
        }
      ]
    },
    {
      "cell_type": "code",
      "source": [
        ""
      ],
      "metadata": {
        "id": "nHv525JYaAyW"
      },
      "execution_count": null,
      "outputs": []
    }
  ]
}