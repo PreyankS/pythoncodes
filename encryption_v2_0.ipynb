{
  "nbformat": 4,
  "nbformat_minor": 0,
  "metadata": {
    "colab": {
      "name": "encryption_v2.0.ipynb",
      "provenance": []
    },
    "kernelspec": {
      "name": "python3",
      "display_name": "Python 3"
    },
    "language_info": {
      "name": "python"
    }
  },
  "cells": [
    {
      "cell_type": "code",
      "execution_count": 15,
      "metadata": {
        "colab": {
          "base_uri": "https://localhost:8080/"
        },
        "id": "PP8m0wzS2BLc",
        "outputId": "b855105f-fc86-4abd-b91d-0d08cd7eb15b"
      },
      "outputs": [
        {
          "output_type": "stream",
          "name": "stdout",
          "text": [
            "Encrypt the message: Dyu's hair sux!\n",
            "Zok\u001di\u0016^W_h\u0016ikn\u0017\n"
          ]
        }
      ],
      "source": [
        "n=input(\"Encrypt the message: \")  #ord() for ascii, and chr() for value of the ascii\n",
        "n=n.lower()\n",
        "newlist=[]\n",
        "for i in range(0,len(n)):\n",
        "  ascii=ord(n[i])\n",
        "  \n",
        "  char=chr(ascii-10)\n",
        "  newlist.append(char)\n",
        "txt=\"\".join(newlist)\n",
        "print(txt)"
      ]
    },
    {
      "cell_type": "code",
      "source": [
        "newlist.clear()\n",
        "pw=\"DyuWINS!\"\n",
        "userpw=input(\"To decrypt, enter password: \")\n",
        "if pw!=userpw:\n",
        "  print(\"Wrong password\")\n",
        "else:\n",
        "  for j in range(0,len(txt)):\n",
        "    ascii=ord(txt[j])\n",
        "    char=chr(ascii+10)\n",
        "    newlist.append(char) #use mod if d+10 is beyond range- mod by length of list\n",
        "  message=\"\".join(newlist)\n",
        "  print(message)"
      ],
      "metadata": {
        "id": "YreXgxh07FSP",
        "colab": {
          "base_uri": "https://localhost:8080/"
        },
        "outputId": "d687f169-ce8d-42d4-f9cd-50931452242e"
      },
      "execution_count": 16,
      "outputs": [
        {
          "output_type": "stream",
          "name": "stdout",
          "text": [
            "To decrypt, enter password: DyuWINS!\n",
            "dyu's hair sux!\n"
          ]
        }
      ]
    },
    {
      "cell_type": "code",
      "source": [
        ""
      ],
      "metadata": {
        "id": "2c-a_MlC-0Oq"
      },
      "execution_count": null,
      "outputs": []
    },
    {
      "cell_type": "code",
      "source": [
        ""
      ],
      "metadata": {
        "id": "IujpS6Al-x9u"
      },
      "execution_count": null,
      "outputs": []
    },
    {
      "cell_type": "code",
      "source": [
        ""
      ],
      "metadata": {
        "id": "xKpPH7cv6xS4"
      },
      "execution_count": null,
      "outputs": []
    },
    {
      "cell_type": "code",
      "source": [
        ""
      ],
      "metadata": {
        "id": "af2zyW8V6uxF"
      },
      "execution_count": null,
      "outputs": []
    }
  ]
}