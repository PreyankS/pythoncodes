{
  "nbformat": 4,
  "nbformat_minor": 0,
  "metadata": {
    "colab": {
      "name": "ip_address_checker.ipynb",
      "provenance": []
    },
    "kernelspec": {
      "name": "python3",
      "display_name": "Python 3"
    },
    "language_info": {
      "name": "python"
    }
  },
  "cells": [
    {
      "cell_type": "code",
      "execution_count": null,
      "metadata": {
        "id": "-eXM2xUVVg3_"
      },
      "outputs": [],
      "source": [
        "#Checking IP address\n",
        "ip=input(\"Enter IP address: \")\n",
        "iplist=ip.split(\".\")\n",
        "flag=True\n",
        "if len(iplist)!=4:\n",
        "  flag=False\n",
        "for str in iplist:\n",
        "  if not str.isdigit():\n",
        "    flag=False\n",
        "    break\n",
        "  i=int(str)\n",
        "  if(i<0 or i>255):\n",
        "    flag=False\n",
        "    break\n",
        "print(flag)"
      ]
    }
  ]
}