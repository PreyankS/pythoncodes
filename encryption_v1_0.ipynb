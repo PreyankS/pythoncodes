{
  "nbformat": 4,
  "nbformat_minor": 0,
  "metadata": {
    "colab": {
      "name": "encryption_v1.0.ipynb",
      "provenance": []
    },
    "kernelspec": {
      "name": "python3",
      "display_name": "Python 3"
    },
    "language_info": {
      "name": "python"
    }
  },
  "cells": [
    {
      "cell_type": "markdown",
      "source": [
        "**Encryption**\n",
        "Working:\n",
        "1) create an exhaustive list of letters and numbers which will be used as a range for ecryption of the message  \n",
        "2) Run a for loop to: \n",
        "i) extract a letter from the message, \n",
        "ii) find its index in the list (d), \n",
        "iii) make reference to another index (d-10) using it, and \n",
        "iv) append the letter at this new index"
      ],
      "metadata": {
        "id": "JP5MI7-ZDM_e"
      }
    },
    {
      "cell_type": "code",
      "execution_count": 5,
      "metadata": {
        "colab": {
          "base_uri": "https://localhost:8080/"
        },
        "id": "9E0WM3ETCtrd",
        "outputId": "43a88187-f376-464a-83bb-81c2dcd22b29"
      },
      "outputs": [
        {
          "output_type": "stream",
          "name": "stdout",
          "text": [
            "Encrypt the message: russia invaded ukraine 2022\n",
            "hkii91 9dl1454 kah19d5 rzrr\n"
          ]
        }
      ],
      "source": [
        "n=input(\"Encrypt the message: \")  #convert to lower case #can also use ascii values- for ord() for ascii, and chr() for value of the ascii\n",
        "alist=[\"a\",\"b\",\"c\",\"d\",\"e\",\"f\",\"g\",\"h\",\"i\",\"j\",\"k\",\"l\",\"m\",\"n\",\"o\",\"p\",\"q\",\"r\",\"s\",\"t\",\"u\",\"v\",\"w\",\"x\",\"y\",\"z\",\"1\",\"2\",\"3\",\"4\",\"5\",\"6\",\"7\",\"8\",\"9\",\"0\"]\n",
        "newlist=[]\n",
        "for i in range(0,len(n)):\n",
        "  c=n[i]\n",
        "  if c in alist:\n",
        "    d=alist.index(c)\n",
        "    newlist.append(alist[d-10])\n",
        "  else:\n",
        "    newlist.append(c)\n",
        "  e=\"\".join(newlist)\n",
        "print(e)"
      ]
    },
    {
      "cell_type": "markdown",
      "source": [
        "**Decryption**\n",
        "Working:\n",
        "1) Only if the recipient of the message knows the password, will he/she be able to decrypt the message\n",
        "2) Using the same steps as enlisted for ecryption, decryption is done. This is because the method to traverse within the exhaustive list is static (only goes 10 steps backward or forward)\n",
        "3) The only exception here is: we re-index to a position (d+10). The problem with this is that our reference of the index d+10 can lead us beyond the length of the list. This does not happen when referring to the next index as (d-10) because an output of -5 will take you in the reverse order and return a value 5 steps from behind.\n",
        "4) Therefore, we alter our reference to (d+10)%(len(alist). If length of list is 36, and if (d+10) returns 40, our reference index will return the value 4, which is correct. If (d+10) returns 30 only, mod will give a value of 0, hence staying at the index 30 only and returning that value.\n",
        "5) Alternatively, one can index to a position (d-26) [36-10]. "
      ],
      "metadata": {
        "id": "CVHfosbBDU4R"
      }
    },
    {
      "cell_type": "code",
      "source": [
        "newlist.clear()\n",
        "pw=\"abcde\"\n",
        "userpw=input(\"To decrypt, enter password: \")\n",
        "if pw!=userpw:\n",
        "  print(\"Wrong password\")\n",
        "else:\n",
        "  for j in range(0,len(e)):\n",
        "    c=e[j]\n",
        "    if c in alist:\n",
        "      d=alist.index(c)\n",
        "      newlist.append(alist[(d+10)%(len(alist))]) #use mod if d+10 is beyond range- mod by length of list\n",
        "    else:\n",
        "      newlist.append(c)\n",
        "    message=\"\".join(newlist)\n",
        "  print(message)"
      ],
      "metadata": {
        "colab": {
          "base_uri": "https://localhost:8080/"
        },
        "id": "QeFnrJ8FC-gl",
        "outputId": "29eed53f-fac2-45c3-c858-9c3a96e6386f"
      },
      "execution_count": 6,
      "outputs": [
        {
          "output_type": "stream",
          "name": "stdout",
          "text": [
            "To decrypt, enter password: abcde\n",
            "russia invaded ukraine 2022\n"
          ]
        }
      ]
    },
    {
      "cell_type": "code",
      "source": [
        ""
      ],
      "metadata": {
        "id": "KTR50LlO45s7"
      },
      "execution_count": null,
      "outputs": []
    },
    {
      "cell_type": "code",
      "source": [
        ""
      ],
      "metadata": {
        "id": "6iQrLWlW3NLl"
      },
      "execution_count": null,
      "outputs": []
    },
    {
      "cell_type": "markdown",
      "source": [
        ""
      ],
      "metadata": {
        "id": "OdYMfk7jDJN3"
      }
    }
  ]
}