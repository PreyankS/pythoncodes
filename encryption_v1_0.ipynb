{
  "nbformat": 4,
  "nbformat_minor": 0,
  "metadata": {
    "colab": {
      "name": "encryption_v1.0.ipynb",
      "provenance": []
    },
    "kernelspec": {
      "name": "python3",
      "display_name": "Python 3"
    },
    "language_info": {
      "name": "python"
    }
  },
  "cells": [
    {
      "cell_type": "markdown",
      "source": [
        "**Encryption**\n",
        "Working:\n",
        "1) create an exhaustive list of letters and numbers which will be used as a range for ecryption of the message  \n",
        "2) Run a for loop to: \n",
        "i) extract a letter from the message, \n",
        "ii) find its index in the list (d), \n",
        "iii) make reference to another index (d-10) using it, and \n",
        "iv) append the letter at this new index"
      ],
      "metadata": {
        "id": "JP5MI7-ZDM_e"
      }
    },
    {
      "cell_type": "code",
      "execution_count": null,
      "metadata": {
        "colab": {
          "base_uri": "https://localhost:8080/"
        },
        "id": "9E0WM3ETCtrd",
        "outputId": "b297ff73-d37a-4613-d6d6-336c78e99d56"
      },
      "outputs": [
        {
          "output_type": "stream",
          "name": "stdout",
          "text": [
            "Encrypt the message: Russia invades\n",
            "hkii91 9dl145i\n"
          ]
        }
      ],
      "source": [
        "n=input(\"Encrypt the message: \")  #convert to lower case #can also use ascii values- ord() for ascii, and chr() for value of the ascii\n",
        "n=n.lower()\n",
        "alist=[\"a\",\"b\",\"c\",\"d\",\"e\",\"f\",\"g\",\"h\",\"i\",\"j\",\"k\",\"l\",\"m\",\"n\",\"o\",\"p\",\"q\",\"r\",\"s\",\"t\",\"u\",\"v\",\"w\",\"x\",\"y\",\"z\",\"1\",\"2\",\"3\",\"4\",\"5\",\"6\",\"7\",\"8\",\"9\",\"0\"]\n",
        "newlist=[]\n",
        "for i in range(0,len(n)):\n",
        "  c=n[i]\n",
        "  if c in alist:\n",
        "    d=alist.index(c)\n",
        "    newlist.append(alist[d-10])\n",
        "  else:\n",
        "    newlist.append(c)\n",
        "  e=\"\".join(newlist)\n",
        "print(e)"
      ]
    },
    {
      "cell_type": "markdown",
      "source": [
        "**Decryption**\n",
        "Working:\n",
        "1) Only if the recipient of the message knows the password, will he/she be able to decrypt the message\n",
        "2) Using the same steps as enlisted for ecryption, decryption is done. This is because the method to traverse within the exhaustive list is static (only goes 10 steps backward or forward)\n",
        "3) The only exception here is: we re-index to a position (d+10). The problem with this is that our reference of the index d+10 can lead us beyond the length of the list. This does not happen when referring to the next index as (d-10) because an output of -5 will take you in the reverse order and return a value 5 steps from behind.\n",
        "4) Therefore, we alter our reference to (d+10)%(len(alist). If length of list is 36, and if (d+10) returns 40, our reference index will return the value 4, which is correct. If (d+10) returns 30 only, mod will give a value of 0, hence staying at the index 30 only and returning that value.\n",
        "5) Alternatively, one can index to a position (d-26) [36-10]. "
      ],
      "metadata": {
        "id": "CVHfosbBDU4R"
      }
    },
    {
      "cell_type": "code",
      "source": [
        "newlist.clear()\n",
        "pw=\"abcde\"\n",
        "userpw=input(\"To decrypt, enter password: \")\n",
        "if pw!=userpw:\n",
        "  print(\"Wrong password\")\n",
        "else:\n",
        "  for j in range(0,len(e)):\n",
        "    c=e[j]\n",
        "    if c in alist:\n",
        "      d=alist.index(c)\n",
        "      newlist.append(alist[(d+10)%(len(alist))]) #use mod if d+10 is beyond range- mod by length of list\n",
        "    else:\n",
        "      newlist.append(c)\n",
        "    message=\"\".join(newlist)\n",
        "  print(message)"
      ],
      "metadata": {
        "colab": {
          "base_uri": "https://localhost:8080/"
        },
        "id": "QeFnrJ8FC-gl",
        "outputId": "29eed53f-fac2-45c3-c858-9c3a96e6386f"
      },
      "execution_count": null,
      "outputs": [
        {
          "output_type": "stream",
          "name": "stdout",
          "text": [
            "To decrypt, enter password: abcde\n",
            "russia invaded ukraine 2022\n"
          ]
        }
      ]
    },
    {
      "cell_type": "markdown",
      "source": [
        "**Encryption using a parameterised function**"
      ],
      "metadata": {
        "id": "AJdV5e-Gans4"
      }
    },
    {
      "cell_type": "code",
      "execution_count": null,
      "metadata": {
        "colab": {
          "base_uri": "https://localhost:8080/"
        },
        "outputId": "0fe0f27c-a3a4-49ac-c976-828c3fd4e430",
        "id": "pM7KxGXIauAX"
      },
      "outputs": [
        {
          "output_type": "stream",
          "name": "stdout",
          "text": [
            "Encrypt the message: USA russia\n",
            "The message for you is:  ki1 hkii91\n"
          ]
        }
      ],
      "source": [
        "def encrypt(n):\n",
        "  n=n.lower()\n",
        "  alist=[\"a\",\"b\",\"c\",\"d\",\"e\",\"f\",\"g\",\"h\",\"i\",\"j\",\"k\",\"l\",\"m\",\"n\",\"o\",\"p\",\"q\",\"r\",\"s\",\"t\",\"u\",\"v\",\"w\",\"x\",\"y\",\"z\",\"1\",\"2\",\"3\",\"4\",\"5\",\"6\",\"7\",\"8\",\"9\",\"0\"]\n",
        "  newlist=[]\n",
        "  for i in range(0,len(n)):\n",
        "    c=n[i]\n",
        "    if c in alist:\n",
        "      d=alist.index(c)\n",
        "      newlist.append(alist[d-10])\n",
        "    else:\n",
        "      newlist.append(c)\n",
        "    e=\"\".join(newlist)\n",
        "  return e\n",
        "n=input(\"Encrypt the message: \")\n",
        "txt=encrypt(n)\n",
        "print(\"The message for you is: \",txt)"
      ]
    },
    {
      "cell_type": "markdown",
      "source": [
        "**Decryption using parameterised function**"
      ],
      "metadata": {
        "id": "0sMwnAf_cKgH"
      }
    },
    {
      "cell_type": "code",
      "source": [
        "print(txt)\n",
        "newlist.clear()\n",
        "pw=\"abcde\"\n",
        "userpw=input(\"To decrypt, enter password: \")\n",
        "def decrypt(e):\n",
        "  for j in range(0,len(e)):\n",
        "    c=e[j]\n",
        "    if c in alist:\n",
        "      d=alist.index(c)\n",
        "      newlist.append(alist[(d+10)%(len(alist))])\n",
        "    else:\n",
        "      newlist.append(c)\n",
        "    message=\"\".join(newlist)\n",
        "  return message ##\n",
        "if pw!=userpw:\n",
        "  print(\"Wrong password\")\n",
        "else:\n",
        "  print(\"Message for you: \",decrypt(txt))"
      ],
      "metadata": {
        "colab": {
          "base_uri": "https://localhost:8080/"
        },
        "id": "hjXboEL-b90s",
        "outputId": "c7b88f5f-7ddf-491a-eda5-651acd2547bf"
      },
      "execution_count": null,
      "outputs": [
        {
          "output_type": "stream",
          "name": "stdout",
          "text": [
            "ki1 hkii91\n",
            "To decrypt, enter password: abcde\n",
            "Message for you:  usa russia\n"
          ]
        }
      ]
    },
    {
      "cell_type": "markdown",
      "source": [
        "**Problem with the code above:**\n",
        "The list created is not exhaustive.\n",
        "It does not include special characters, capital letters etc. Capital letters, special characters, space are not replaced, rather are kept the same way. \n",
        "Space remains as space.\n",
        "Also, an individual may be able to decrypt the message if he notices the pattern in the encrypted message. \n",
        "An alternate and improved step to encrypt would be to use ASCII values. \n",
        "Check out v2.0 for the same!"
      ],
      "metadata": {
        "id": "0UW7InYky-f5"
      }
    },
    {
      "cell_type": "code",
      "source": [
        ""
      ],
      "metadata": {
        "id": "dNkrXmt1foHN"
      },
      "execution_count": null,
      "outputs": []
    },
    {
      "cell_type": "code",
      "source": [
        ""
      ],
      "metadata": {
        "id": "Yg7dQ5AxfeTR"
      },
      "execution_count": null,
      "outputs": []
    },
    {
      "cell_type": "code",
      "source": [
        ""
      ],
      "metadata": {
        "id": "HRsxyEu-fJ2H"
      },
      "execution_count": null,
      "outputs": []
    },
    {
      "cell_type": "code",
      "source": [
        ""
      ],
      "metadata": {
        "id": "9vBplqXoea4O"
      },
      "execution_count": null,
      "outputs": []
    },
    {
      "cell_type": "code",
      "source": [
        ""
      ],
      "metadata": {
        "id": "O46LWc4FeS41"
      },
      "execution_count": null,
      "outputs": []
    },
    {
      "cell_type": "code",
      "source": [
        ""
      ],
      "metadata": {
        "id": "eomugEFSdfkH"
      },
      "execution_count": null,
      "outputs": []
    },
    {
      "cell_type": "code",
      "source": [
        ""
      ],
      "metadata": {
        "id": "5rE4Ys5LbwbP"
      },
      "execution_count": null,
      "outputs": []
    },
    {
      "cell_type": "code",
      "source": [
        ""
      ],
      "metadata": {
        "id": "IYGHrypnbfqU"
      },
      "execution_count": null,
      "outputs": []
    },
    {
      "cell_type": "code",
      "source": [
        ""
      ],
      "metadata": {
        "id": "6iQrLWlW3NLl"
      },
      "execution_count": null,
      "outputs": []
    },
    {
      "cell_type": "markdown",
      "source": [
        ""
      ],
      "metadata": {
        "id": "OdYMfk7jDJN3"
      }
    }
  ]
}